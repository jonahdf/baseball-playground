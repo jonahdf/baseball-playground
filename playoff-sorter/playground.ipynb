{
 "cells": [
  {
   "cell_type": "code",
   "execution_count": 1,
   "metadata": {},
   "outputs": [],
   "source": [
    "from pybaseball import team_batting, team_pitching"
   ]
  },
  {
   "cell_type": "code",
   "execution_count": 2,
   "metadata": {},
   "outputs": [],
   "source": [
    "## Idea 1: WAR (Batting + Pitching), and correlation with W/L percentage and success\n",
    "## List top 10 luckiest teams, top 10 unluckiest teams, per year, last decade, last two decades, and in history.\n",
    "\n",
    "WarTotalDict = dict['oWAR': float, 'pWAR': float, 'totalWAR': float]\n",
    "\n",
    "teamStatsBatting  = team_batting(2024)\n",
    "teamStatsPitching = team_pitching(2024)\n",
    "allTeams : list[str] = teamStatsBatting['Team'].values\n",
    "\n",
    "teamAgg : list[WarTotalDict] = []\n",
    "\n",
    "for team in allTeams:\n",
    "  batWar = teamStatsBatting[teamStatsBatting['Team'] == team]['WAR'].values[0]\n",
    "  pitchWar = teamStatsPitching[teamStatsPitching['Team'] == team]['WAR'].values[0]\n",
    "  winsCount = teamStatsPitching[teamStatsPitching['Team'] == team]['W'].values[0]\n",
    "  totalWar = batWar + pitchWar\n",
    "  warTotal : WarTotalDict = {\"team\": team, \"oWAR\": batWar, \"pWAR\": pitchWar, \"totalWAR\": batWar + pitchWar, \"xWins\": totalWar + 47.7, \"actualWins\": winsCount}\n",
    "  teamAgg.append(warTotal)\n",
    "\n",
    "a = sorted(teamAgg, key = lambda a: a[\"totalWAR\"], reverse=True)\n",
    "\n",
    "# team_batting_dodgers = teamStats[teamStats['Team'] == 'LAD']"
   ]
  },
  {
   "cell_type": "code",
   "execution_count": null,
   "metadata": {},
   "outputs": [],
   "source": [
    "## Idea: Horserace. Take a trailing n-game window, visualize a horserace over the years of teams rising and falling in terms of ranked winning percentage. \n",
    "## https://pypi.org/project/bar-chart-race/"
   ]
  },
  {
   "cell_type": "code",
   "execution_count": null,
   "metadata": {},
   "outputs": [],
   "source": [
    "a = []\n",
    "a.append({\"b\": \"asd\"})\n",
    "print(a)"
   ]
  }
 ],
 "metadata": {
  "kernelspec": {
   "display_name": "baseball-env",
   "language": "python",
   "name": "python3"
  },
  "language_info": {
   "codemirror_mode": {
    "name": "ipython",
    "version": 3
   },
   "file_extension": ".py",
   "mimetype": "text/x-python",
   "name": "python",
   "nbconvert_exporter": "python",
   "pygments_lexer": "ipython3",
   "version": "3.12.7"
  }
 },
 "nbformat": 4,
 "nbformat_minor": 2
}
